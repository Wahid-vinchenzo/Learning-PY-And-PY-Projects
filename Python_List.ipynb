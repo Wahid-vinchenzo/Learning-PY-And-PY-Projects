{
  "nbformat": 4,
  "nbformat_minor": 5,
  "metadata": {
    "colab": {
      "provenance": []
    },
    "language_info": {
      "name": "python"
    },
    "kernelspec": {
      "name": "python3",
      "display_name": "Python 3"
    }
  },
  "cells": [
    {
      "id": "75823129",
      "cell_type": "markdown",
      "source": [
        "# 1. Sum All Items in a List 🔢"
      ],
      "metadata": {
        "id": "75823129"
      }
    },
    {
      "id": "05901440",
      "cell_type": "code",
      "metadata": {
        "colab": {
          "base_uri": "https://localhost:8080/"
        },
        "id": "05901440",
        "outputId": "c25d9c8b-7668-4e3d-f106-ca2c78495f3d"
      },
      "execution_count": null,
      "source": [
        "numbers = [1, 2, 3, 4, 5]\n",
        "print(sum(numbers))"
      ],
      "outputs": [
        {
          "output_type": "stream",
          "name": "stdout",
          "text": [
            "15\n"
          ]
        }
      ]
    },
    {
      "id": "57b72a35",
      "cell_type": "markdown",
      "source": [
        "# 2. Multiply All Items in a List ✖️"
      ],
      "metadata": {
        "id": "57b72a35"
      }
    },
    {
      "id": "a7306955",
      "cell_type": "code",
      "metadata": {
        "colab": {
          "base_uri": "https://localhost:8080/"
        },
        "id": "a7306955",
        "outputId": "72105473-4747-448e-89c3-5086fe0f5e5e"
      },
      "execution_count": null,
      "source": [
        "from functools import reduce\n",
        "nums = [1, 2, 3, 4]\n",
        "result = reduce(lambda x, y: x*y, nums)\n",
        "print(result)"
      ],
      "outputs": [
        {
          "output_type": "stream",
          "name": "stdout",
          "text": [
            "24\n"
          ]
        }
      ]
    },
    {
      "id": "c3a009f6",
      "cell_type": "markdown",
      "source": [
        "# 3. Find Max Item in a List 🔼"
      ],
      "metadata": {
        "id": "c3a009f6"
      }
    },
    {
      "id": "57a73a7c",
      "cell_type": "code",
      "metadata": {
        "colab": {
          "base_uri": "https://localhost:8080/"
        },
        "id": "57a73a7c",
        "outputId": "312860be-4c97-4a8d-cb2d-16e8b90d332f"
      },
      "execution_count": null,
      "source": [
        "nums = [10, 20, 4, 45, 99]\n",
        "print(max(nums))"
      ],
      "outputs": [
        {
          "output_type": "stream",
          "name": "stdout",
          "text": [
            "99\n"
          ]
        }
      ]
    },
    {
      "id": "7bc17507",
      "cell_type": "markdown",
      "source": [
        "# 4. Find Min Item in a List 🔽"
      ],
      "metadata": {
        "id": "7bc17507"
      }
    },
    {
      "id": "c431bcbf",
      "cell_type": "code",
      "metadata": {
        "colab": {
          "base_uri": "https://localhost:8080/"
        },
        "id": "c431bcbf",
        "outputId": "b76e82c8-cc2a-45f2-9b63-b8ac50a4b0a8"
      },
      "execution_count": null,
      "source": [
        "nums = [10, 20, 4, 45, 99]\n",
        "print(min(nums))"
      ],
      "outputs": [
        {
          "output_type": "stream",
          "name": "stdout",
          "text": [
            "4\n"
          ]
        }
      ]
    },
    {
      "id": "cd1b0acd",
      "cell_type": "markdown",
      "source": [
        "# 5. Count Occurrences of an Element 🔍"
      ],
      "metadata": {
        "id": "cd1b0acd"
      }
    },
    {
      "id": "4854ab06",
      "cell_type": "code",
      "metadata": {
        "colab": {
          "base_uri": "https://localhost:8080/"
        },
        "id": "4854ab06",
        "outputId": "986788d5-3f34-4d22-a103-7a8ac1341613"
      },
      "execution_count": null,
      "source": [
        "nums = [1, 2, 2, 3, 4, 4, 4, 5]\n",
        "print(nums.count(4))"
      ],
      "outputs": [
        {
          "output_type": "stream",
          "name": "stdout",
          "text": [
            "3\n"
          ]
        }
      ]
    },
    {
      "id": "6743e8fe",
      "cell_type": "markdown",
      "source": [
        "# 6. Reverse a List 🔄"
      ],
      "metadata": {
        "id": "6743e8fe"
      }
    },
    {
      "id": "afc89d10",
      "cell_type": "code",
      "metadata": {
        "colab": {
          "base_uri": "https://localhost:8080/"
        },
        "id": "afc89d10",
        "outputId": "92f4fc93-8e2c-4e9d-9674-8728acaead04"
      },
      "execution_count": null,
      "source": [
        "nums = [1, 2, 3, 4, 5]\n",
        "nums.reverse()\n",
        "print(nums)"
      ],
      "outputs": [
        {
          "output_type": "stream",
          "name": "stdout",
          "text": [
            "[5, 4, 3, 2, 1]\n"
          ]
        }
      ]
    },
    {
      "id": "43cf53dd",
      "cell_type": "markdown",
      "source": [
        "# 7. Clone/Copy a List 📋"
      ],
      "metadata": {
        "id": "43cf53dd"
      }
    },
    {
      "id": "45c37c2d",
      "cell_type": "code",
      "metadata": {
        "colab": {
          "base_uri": "https://localhost:8080/"
        },
        "id": "45c37c2d",
        "outputId": "af6e4f57-228a-4c48-df8d-7191f0b9c092"
      },
      "execution_count": null,
      "source": [
        "nums = [1, 2, 3]\n",
        "copy = nums[:]\n",
        "print(copy)"
      ],
      "outputs": [
        {
          "output_type": "stream",
          "name": "stdout",
          "text": [
            "[1, 2, 3]\n"
          ]
        }
      ]
    },
    {
      "id": "52546750",
      "cell_type": "markdown",
      "source": [
        "# 8. Find Common Elements Between Two Lists 🤝"
      ],
      "metadata": {
        "id": "52546750"
      }
    },
    {
      "id": "3d4eae9d",
      "cell_type": "code",
      "metadata": {
        "colab": {
          "base_uri": "https://localhost:8080/"
        },
        "id": "3d4eae9d",
        "outputId": "e6fd8810-1314-4ef9-f779-5e75c7c844d0"
      },
      "execution_count": null,
      "source": [
        "a = [1, 2, 3]\n",
        "b = [2, 3, 4]\n",
        "print(list(set(a) & set(b)))"
      ],
      "outputs": [
        {
          "output_type": "stream",
          "name": "stdout",
          "text": [
            "[2, 3]\n"
          ]
        }
      ]
    },
    {
      "id": "7a2025b6",
      "cell_type": "markdown",
      "source": [
        "# 9. Remove Duplicates 🧹"
      ],
      "metadata": {
        "id": "7a2025b6"
      }
    },
    {
      "id": "409a9322",
      "cell_type": "code",
      "metadata": {
        "colab": {
          "base_uri": "https://localhost:8080/"
        },
        "id": "409a9322",
        "outputId": "cdecb768-a2f1-4c4f-f6f8-f3b57d65857a"
      },
      "execution_count": null,
      "source": [
        "nums = [1,2,2,3,4,4,5]\n",
        "print(list(set(nums)))"
      ],
      "outputs": [
        {
          "output_type": "stream",
          "name": "stdout",
          "text": [
            "[1, 2, 3, 4, 5]\n"
          ]
        }
      ]
    },
    {
      "id": "683c34b5",
      "cell_type": "markdown",
      "source": [
        "# 10. Check if List is Empty 🕳️"
      ],
      "metadata": {
        "id": "683c34b5"
      }
    },
    {
      "id": "d43aa0b0",
      "cell_type": "code",
      "metadata": {
        "colab": {
          "base_uri": "https://localhost:8080/"
        },
        "id": "d43aa0b0",
        "outputId": "6cd7606d-0cb9-4db8-ca32-1a6ea5e490d8"
      },
      "execution_count": null,
      "source": [
        "nums = []\n",
        "print(not nums)"
      ],
      "outputs": [
        {
          "output_type": "stream",
          "name": "stdout",
          "text": [
            "True\n"
          ]
        }
      ]
    },
    {
      "id": "d5986c6c",
      "cell_type": "markdown",
      "source": [
        "# 11. Flatten a Nested List 📂"
      ],
      "metadata": {
        "id": "d5986c6c"
      }
    },
    {
      "id": "a2f0ada0",
      "cell_type": "code",
      "metadata": {
        "colab": {
          "base_uri": "https://localhost:8080/"
        },
        "id": "a2f0ada0",
        "outputId": "6657164d-935d-428f-83f6-99770acb7f06"
      },
      "execution_count": null,
      "source": [
        "nested = [[1,2],[3,4],[5]]\n",
        "flat = [x for sublist in nested for x in sublist]\n",
        "print(flat)"
      ],
      "outputs": [
        {
          "output_type": "stream",
          "name": "stdout",
          "text": [
            "[1, 2, 3, 4, 5]\n"
          ]
        }
      ]
    },
    {
      "id": "1cea1f8c",
      "cell_type": "markdown",
      "source": [
        "# 12. Find Difference Between Two Lists ➖"
      ],
      "metadata": {
        "id": "1cea1f8c"
      }
    },
    {
      "id": "17aef861",
      "cell_type": "code",
      "metadata": {
        "colab": {
          "base_uri": "https://localhost:8080/"
        },
        "id": "17aef861",
        "outputId": "d4ad5f35-5d95-42c5-e96c-7073488e793d"
      },
      "execution_count": null,
      "source": [
        "a = [1,2,3,4]\n",
        "b = [2,4]\n",
        "print(list(set(a) - set(b)))"
      ],
      "outputs": [
        {
          "output_type": "stream",
          "name": "stdout",
          "text": [
            "[1, 3]\n"
          ]
        }
      ]
    },
    {
      "id": "da24ced9",
      "cell_type": "markdown",
      "source": [
        "# 13. Convert List of Characters to String 🔡"
      ],
      "metadata": {
        "id": "da24ced9"
      }
    },
    {
      "id": "3f966f2e",
      "cell_type": "code",
      "metadata": {
        "colab": {
          "base_uri": "https://localhost:8080/"
        },
        "id": "3f966f2e",
        "outputId": "2c095b76-9d1b-44ff-cdae-1c390e0a5a6d"
      },
      "execution_count": null,
      "source": [
        "chars = ['h','e','l','l','o']\n",
        "print(''.join(chars))"
      ],
      "outputs": [
        {
          "output_type": "stream",
          "name": "stdout",
          "text": [
            "hello\n"
          ]
        }
      ]
    },
    {
      "id": "36dfe938",
      "cell_type": "markdown",
      "source": [
        "# 14. Find Index of an Item 📍"
      ],
      "metadata": {
        "id": "36dfe938"
      }
    },
    {
      "id": "7b46576f",
      "cell_type": "code",
      "metadata": {
        "colab": {
          "base_uri": "https://localhost:8080/"
        },
        "id": "7b46576f",
        "outputId": "4b79e93d-e5c5-465a-a73c-1f958cec0e7e"
      },
      "execution_count": null,
      "source": [
        "nums = [10,20,30,40]\n",
        "print(nums.index(30))"
      ],
      "outputs": [
        {
          "output_type": "stream",
          "name": "stdout",
          "text": [
            "2\n"
          ]
        }
      ]
    },
    {
      "id": "09b914d3",
      "cell_type": "markdown",
      "source": [
        "# 15. Sort a List 🗂️"
      ],
      "metadata": {
        "id": "09b914d3"
      }
    },
    {
      "id": "21dd1332",
      "cell_type": "code",
      "metadata": {
        "id": "21dd1332"
      },
      "execution_count": null,
      "source": [
        "nums = [5,2,9,1]\n",
        "nums.sort()\n",
        "print(nums)"
      ],
      "outputs": []
    },
    {
      "id": "d123648d",
      "cell_type": "markdown",
      "source": [
        "# 16. Sort a List Descending 📉"
      ],
      "metadata": {
        "id": "d123648d"
      }
    },
    {
      "id": "df7959c1",
      "cell_type": "code",
      "metadata": {
        "id": "df7959c1"
      },
      "execution_count": null,
      "source": [
        "nums = [5,2,9,1]\n",
        "nums.sort(reverse=True)\n",
        "print(nums)"
      ],
      "outputs": []
    },
    {
      "id": "2e70724f",
      "cell_type": "markdown",
      "source": [
        "# 17. Find Second Largest Number 🥈"
      ],
      "metadata": {
        "id": "2e70724f"
      }
    },
    {
      "id": "96ba518e",
      "cell_type": "code",
      "metadata": {
        "id": "96ba518e"
      },
      "execution_count": null,
      "source": [
        "nums = [10,20,4,45,99]\n",
        "nums.sort()\n",
        "print(nums[-2])"
      ],
      "outputs": []
    },
    {
      "id": "c8d150a0",
      "cell_type": "markdown",
      "source": [
        "# 18. Find Second Smallest Number 🥈"
      ],
      "metadata": {
        "id": "c8d150a0"
      }
    },
    {
      "id": "e8ddcd86",
      "cell_type": "code",
      "metadata": {
        "id": "e8ddcd86"
      },
      "execution_count": null,
      "source": [
        "nums = [10,20,4,45,99]\n",
        "nums.sort()\n",
        "print(nums[1])"
      ],
      "outputs": []
    },
    {
      "id": "03f22b36",
      "cell_type": "markdown",
      "source": [
        "# 19. Split List into Chunks 🍰"
      ],
      "metadata": {
        "id": "03f22b36"
      }
    },
    {
      "id": "cbd6f907",
      "cell_type": "code",
      "metadata": {
        "id": "cbd6f907"
      },
      "execution_count": null,
      "source": [
        "nums = [1,2,3,4,5,6,7,8]\n",
        "chunk_size = 3\n",
        "chunks = [nums[i:i+chunk_size] for i in range(0, len(nums), chunk_size)]\n",
        "print(chunks)"
      ],
      "outputs": []
    },
    {
      "id": "95ab5894",
      "cell_type": "markdown",
      "source": [
        "# 20. Find All Even Numbers ⚡"
      ],
      "metadata": {
        "id": "95ab5894"
      }
    },
    {
      "id": "7d239c99",
      "cell_type": "code",
      "metadata": {
        "id": "7d239c99"
      },
      "execution_count": null,
      "source": [
        "nums = [1,2,3,4,5,6,7,8]\n",
        "evens = [x for x in nums if x%2==0]\n",
        "print(evens)"
      ],
      "outputs": []
    },
    {
      "id": "9e090d63",
      "cell_type": "markdown",
      "source": [
        "# 21. Find All Odd Numbers 🌙"
      ],
      "metadata": {
        "id": "9e090d63"
      }
    },
    {
      "id": "e4e07806",
      "cell_type": "code",
      "metadata": {
        "id": "e4e07806"
      },
      "execution_count": null,
      "source": [
        "nums = [1,2,3,4,5,6,7,8]\n",
        "odds = [x for x in nums if x%2!=0]\n",
        "print(odds)"
      ],
      "outputs": []
    },
    {
      "id": "7c6e2ea4",
      "cell_type": "markdown",
      "source": [
        "# 22. Find Length of List 📏"
      ],
      "metadata": {
        "id": "7c6e2ea4"
      }
    },
    {
      "id": "0586914a",
      "cell_type": "code",
      "metadata": {
        "id": "0586914a"
      },
      "execution_count": null,
      "source": [
        "nums = [1,2,3,4,5]\n",
        "print(len(nums))"
      ],
      "outputs": []
    },
    {
      "id": "3d9e5bbe",
      "cell_type": "markdown",
      "source": [
        "# 23. Clear a List 🧽"
      ],
      "metadata": {
        "id": "3d9e5bbe"
      }
    },
    {
      "id": "f2ed8200",
      "cell_type": "code",
      "metadata": {
        "id": "f2ed8200"
      },
      "execution_count": null,
      "source": [
        "nums = [1,2,3]\n",
        "nums.clear()\n",
        "print(nums)"
      ],
      "outputs": []
    },
    {
      "id": "1741a3af",
      "cell_type": "markdown",
      "source": [
        "# 24. Zip Two Lists Together 🪢"
      ],
      "metadata": {
        "id": "1741a3af"
      }
    },
    {
      "id": "7a46c5d9",
      "cell_type": "code",
      "metadata": {
        "id": "7a46c5d9"
      },
      "execution_count": null,
      "source": [
        "a = [1,2,3]\n",
        "b = ['a','b','c']\n",
        "print(list(zip(a,b)))"
      ],
      "outputs": []
    },
    {
      "id": "bd542d7f",
      "cell_type": "markdown",
      "source": [
        "# 25. Find Unique Values from List 🔑"
      ],
      "metadata": {
        "id": "bd542d7f"
      }
    },
    {
      "id": "46c7ef8b",
      "cell_type": "code",
      "metadata": {
        "id": "46c7ef8b"
      },
      "execution_count": null,
      "source": [
        "nums = [1,2,2,3,4,4,5]\n",
        "unique = list(set(nums))\n",
        "print(unique)"
      ],
      "outputs": []
    },
    {
      "cell_type": "markdown",
      "source": [
        "# ***mix😪***"
      ],
      "metadata": {
        "id": "ialmr9mK-2Bo"
      },
      "id": "ialmr9mK-2Bo"
    },
    {
      "cell_type": "code",
      "source": [
        "a=input()\n",
        "l=a.split(',')\n",
        "l=[x.strip() for x in l]\n",
        "print(l)\n",
        "l.sort()\n",
        "print(l)\n",
        "l.reverse()\n",
        "print(l)\n",
        "print(max(l))\n",
        "print(min(l))\n",
        "print(l[-1])\n",
        "l.insert(1,100)\n",
        "l[4]=1000\n",
        "print(l)\n",
        "l.append(2000)\n",
        "print(l)\n",
        "print(l[2:])"
      ],
      "metadata": {
        "id": "nBiNdNMk--lu",
        "outputId": "30fbbcc7-a66e-4e98-bbb0-559f0ba28e80",
        "colab": {
          "base_uri": "https://localhost:8080/"
        }
      },
      "id": "nBiNdNMk--lu",
      "execution_count": null,
      "outputs": [
        {
          "output_type": "stream",
          "name": "stdout",
          "text": [
            "1,2,3,5,5\n",
            "['1', '2', '3', '5', '5']\n",
            "['1', '2', '3', '5', '5']\n",
            "['5', '5', '3', '2', '1']\n",
            "5\n",
            "1\n",
            "1\n",
            "['5', 100, '5', '3', 1000, '1']\n",
            "['5', 100, '5', '3', 1000, '1', 2000]\n",
            "['5', '3', 1000, '1', 2000]\n"
          ]
        }
      ]
    }
  ]
}